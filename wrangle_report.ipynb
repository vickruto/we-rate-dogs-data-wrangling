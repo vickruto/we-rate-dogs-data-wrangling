{
 "cells": [
  {
   "cell_type": "markdown",
   "metadata": {},
   "source": [
    "# **@dog_rates Dog Ratings Data Wrangling Steps.**\n",
    "\n",
    "The following data wrangling steps were performed :\n",
    "\n",
    "## 1) Data Gathering. \n",
    "The data was gathered and loaded into pandas dataframes from three different sources: \n",
    "-  A CSV file at hand.\n",
    "-  The web, using Requests Library\n",
    "-  Twitter API using Tweepy Library\n",
    "\n",
    "## 2) Data Assessment. \n",
    "After gathering and loading the data, it was accessed for quality and tidiness issues. \n",
    "Some of the issues detected in the different dataframe tables included the following :\n",
    "\n",
    "### a) Data Quality Issues\n",
    "\n",
    "**twitter_archive table**\n",
    "\n",
    "1) some of the rows in the table contain retweets. We are only interested in original ratings (non-retweets) for this particular project\n",
    "\n",
    "2) Erroneous datatype : timestamp column - object(string) instead of datetime\n",
    "\n",
    "3) null values in the name column represented as 'None' instead of as valid pandas null representation : NaN. There are also invalid names such as a,an and very which we will need to remove\n",
    "\n",
    "4) plurals such as 'puppers' were not considered for cases where dog squads ie more than one dog in the picture, were being rated\n",
    "\n",
    "4) some tweets are ratings of more than one dog in the same picture and they seem to have a different rating system where the numerator and denominator are each multiplied by the number of dogs in the picture. These should be adjusted to the common doggo rating system where the rating denominator is 10 for easier analysis\n",
    "\n",
    "5) some datetetime parameters such as 24/7, 9/11, 4/20 have been accidentally interpreted as ratings values. '50/50 split' was also misinterpreted as a dog rating\n",
    "\n",
    "6) some tweet texts contain more than one parameters similar to the ratings style used. The first ratings format occurence was automatically taken as the rating while in some cases the second occurence was the actual rating.\n",
    "\n",
    "7) some ratings are not reflective of the good ol doggo rating system we are familiar with and are meant to be funny or satirical such as one tweet rating a dog 666/10 or another rating a 'Snoop doggo' 420/10. To be fair to the other good doggos in the dataset, we are going to get rid of such outlier ratings.\n",
    "\n",
    "8) many urls in the expanded_urls column are duplicated\n",
    "\n",
    "8) Most of the dog names are invalid eg name 'a' with 55 occurences, 'the' with 8 occurences and 'an' with 7 occurences.\n",
    "\n",
    "9) Source device in the source column is enclosed in html tags\n",
    "\n",
    "**image_predictions table**  \n",
    "\n",
    "10) some of the tweets are not related to dogs.\n",
    "\n",
    "**api_data_df table**\n",
    "\n",
    "11) null hashtags and user_mentions represented as empty Python lists of pandas recognized null representation.\n",
    "\n",
    "\n",
    "## b) Tidiness issues\n",
    "\n",
    "1) doggo, floofer, pupper, puppo columns in the twitter_archive table should be represented as variables in one column dog_stage\n",
    "\n",
    "2) the three tables : api_data_df, twitter_archive and image_predictions should be collapsed into one master table with the relevant data from all three tables.\n",
    "\n",
    "\n",
    "## 3) Data Cleaning\n",
    "\n",
    "The data quality and tidiness issues identified and documented in the previous step were cleaned.  \n",
    "The final product of the cleaning steps was one master dataframe table which was stored as a CSV file."
   ]
  },
  {
   "cell_type": "code",
   "execution_count": 3,
   "metadata": {},
   "outputs": [
    {
     "data": {
      "text/plain": [
       "0"
      ]
     },
     "execution_count": 3,
     "metadata": {},
     "output_type": "execute_result"
    }
   ],
   "source": [
    "from subprocess import call\n",
    "call(['python', '-m', 'nbconvert', 'wrangle_report.ipynb'])"
   ]
  }
 ],
 "metadata": {
  "kernelspec": {
   "display_name": "Python 3",
   "language": "python",
   "name": "python3"
  },
  "language_info": {
   "codemirror_mode": {
    "name": "ipython",
    "version": 3
   },
   "file_extension": ".py",
   "mimetype": "text/x-python",
   "name": "python",
   "nbconvert_exporter": "python",
   "pygments_lexer": "ipython3",
   "version": "3.6.3"
  }
 },
 "nbformat": 4,
 "nbformat_minor": 2
}
